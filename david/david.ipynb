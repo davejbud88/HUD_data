{
 "cells": [
  {
   "cell_type": "markdown",
   "id": "cd4f3c13",
   "metadata": {},
   "source": [
    "### **Table of Contents**\n",
    "* [Keep this file in your project](#keep-this-file-in-your-project)"
   ]
  },
  {
   "cell_type": "code",
   "execution_count": null,
   "id": "c5e1951d",
   "metadata": {},
   "outputs": [],
   "source": []
  },
  {
   "cell_type": "markdown",
   "id": "ba4f9a3b",
   "metadata": {},
   "source": [
    "# Keep this file in your project\n",
    "\n",
    "keep at the bottom of your project\n",
    "\n",
    "We will go over it later, its a script that will generate a markdown table of contents based on your headings created here in markdown."
   ]
  },
  {
   "cell_type": "code",
   "execution_count": null,
   "id": "5e67660e",
   "metadata": {},
   "outputs": [
    {
     "name": "stdout",
     "output_type": "stream",
     "text": [
      "\n",
      "--- ✅ Copy the Markdown below and pasteit into a new markdown cell ---\n",
      "\n",
      "### **Table of Contents**\n",
      "* [Keep this file in your project](#keep-this-file-in-your-project)\n",
      "\n"
     ]
    }
   ],
   "source": [
    "import json\n",
    "import os\n",
    "\n",
    "\n",
    "def generate_toc_from_notebook(notebook_path):\n",
    "    \"\"\"\n",
    "    Parses a local .ipynb file and generates Markdown for a Table of Contents.\n",
    "    \"\"\"\n",
    "    if not os.path.isfile(notebook_path):\n",
    "        print(f\"❌ Error: File not found at '{notebook_path}'\")\n",
    "        return\n",
    "\n",
    "    with open(notebook_path, 'r', encoding='utf-8') as f:\n",
    "        notebook = json.load(f)\n",
    "\n",
    "    toc_markdown = \"### **Table of Contents**\\n\"\n",
    "    for cell in notebook.get('cells', []):\n",
    "        if cell.get('cell_type') == 'markdown':\n",
    "            for line in cell.get('source', []):\n",
    "                if line.strip().startswith('#'):\n",
    "                    level = line.count('#')\n",
    "                    title = line.strip('#').strip()\n",
    "                    link = title.lower().replace(' ', '-').strip('-.()')\n",
    "                    indent = '  ' * (level - 1)\n",
    "                    toc_markdown += f\"{indent}* [{title}](#{link})\\n\"\n",
    "\n",
    "    print(\"\\n--- ✅ Copy the Markdown below and paste\"\n",
    "          \"it into a new markdown cell ---\\n\")\n",
    "    print(toc_markdown)\n",
    "\n",
    "\n",
    "if __name__ == \"__main__\":\n",
    "    # Example usage\n",
    "    notebook_path = 'david.ipynb'  # Replace with your notebook path\n",
    "    generate_toc_from_notebook(notebook_path)"
   ]
  }
 ],
 "metadata": {
  "kernelspec": {
   "display_name": "Python 3",
   "language": "python",
   "name": "python3"
  },
  "language_info": {
   "codemirror_mode": {
    "name": "ipython",
    "version": 3
   },
   "file_extension": ".py",
   "mimetype": "text/x-python",
   "name": "python",
   "nbconvert_exporter": "python",
   "pygments_lexer": "ipython3",
   "version": "3.14.0"
  }
 },
 "nbformat": 4,
 "nbformat_minor": 5
}
